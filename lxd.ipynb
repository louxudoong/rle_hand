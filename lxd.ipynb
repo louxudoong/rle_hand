{
 "cells": [
  {
   "cell_type": "code",
   "execution_count": 11,
   "metadata": {},
   "outputs": [],
   "source": [
    "import rlepose.datasets.lxd_freihand as lxd_freihand\n",
    "import rlepose.datasets.mytransform as mytransform\n",
    "root_dir = \"/home/louxd/dataset/FreiHand\"\n",
    "split0_train = \"FreiHAND_pub_v2/training\"\n",
    "split1_train = \"FreiHAND_pub_v2\"\n",
    "split2_train = \"training\"\n",
    "split0_eval = \"FreiHAND_pub_v2_eval/evaluation\"\n",
    "split1_eval = \"FreiHAND_pub_v2_eval\"\n",
    "split2_eval = \"evaluation\"\n",
    "mode_train = \"train\"\n",
    "mode_eval = \"eval\"\n",
    "batch_size = 32\n",
    "\n",
    "train_transforms = mytransform.Compose([\n",
    "                                    # Mytransforms.RandomResized(),\n",
    "                                    # Mytransforms.RandomRotate(40),\n",
    "                                    # Mytransforms.RandomCrop(368),\n",
    "                                    # Mytransforms.RandomHorizontalFlip(),\n",
    "                                    mytransform.TestResized(368),\n",
    "                                    ])\n",
    "\n",
    "eval_transforms = mytransform.Compose([\n",
    "                                        mytransform.TestResized(368),\n",
    "                                        ])\n",
    "\n",
    "train_dataset = lxd_freihand.FreiHand_RLE(root_dir, split0_train, split1_train, split2_train, \n",
    "                                            mode=mode_train, stride=8, transformer=train_transforms)\n",
    "# modi end"
   ]
  },
  {
   "cell_type": "code",
   "execution_count": 13,
   "metadata": {},
   "outputs": [],
   "source": [
    "import random\n",
    "import numpy as np\n",
    "import torch\n",
    "import torch.multiprocessing as mp\n",
    "import torch.utils.data\n",
    "\n",
    "num_gpu = torch.cuda.device_count()\n",
    "\n",
    "\n",
    "def _init_fn(worker_id):\n",
    "    np.random.seed(1234)\n",
    "    random.seed(1234)\n",
    "\n",
    "train_sampler = torch.utils.data.distributed.DistributedSampler(\n",
    "        train_dataset, num_replicas=16, rank=5)\n",
    "train_loader = torch.utils.data.DataLoader(\n",
    "    train_dataset, batch_size=32, shuffle=(train_sampler is None), num_workers=16, sampler=train_sampler, worker_init_fn=_init_fn)\n"
   ]
  }
 ],
 "metadata": {
  "kernelspec": {
   "display_name": "rle",
   "language": "python",
   "name": "python3"
  },
  "language_info": {
   "codemirror_mode": {
    "name": "ipython",
    "version": 3
   },
   "file_extension": ".py",
   "mimetype": "text/x-python",
   "name": "python",
   "nbconvert_exporter": "python",
   "pygments_lexer": "ipython3",
   "version": "3.8.17"
  },
  "orig_nbformat": 4
 },
 "nbformat": 4,
 "nbformat_minor": 2
}
