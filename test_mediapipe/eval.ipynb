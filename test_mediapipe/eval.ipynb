{
 "cells": [
  {
   "cell_type": "code",
   "execution_count": 2,
   "metadata": {},
   "outputs": [
    {
     "name": "stdout",
     "output_type": "stream",
     "text": [
      "anno_xyz len： 3960\n",
      "anno_K len： 3960\n",
      "img list len： 3960\n",
      "AUG OFF.\n",
      "1 3 6.267716939486176\n",
      "7 8 22.652749131862418\n",
      "8 10 45.805269618146\n",
      "13 2 8.416601935135962\n",
      "14 3 14.529292478607958\n",
      "15 6 10.505505657245372\n",
      "20 3 10.253807148743544\n",
      "23 12 13.048371701026625\n",
      "33 5 127.32209764555074\n",
      "33 15 7.604269971966341\n",
      "35 1 46.576131532807516\n",
      "35 6 7.894902995071455\n",
      "55 3 69.5939465839232\n",
      "63 7 10.15681446679648\n",
      "65 14 7.327844724064045\n",
      "67 8 11.276488745685034\n",
      "73 15 11.131018836888176\n",
      "81 0 8.54423505158953\n",
      "82 9 107.87260479850936\n",
      "85 15 14.31916006464953\n",
      "90 7 8.867035132078522\n",
      "94 12 8.079805166450218\n",
      "97 0 7.534832109090287\n",
      "98 9 4.834724296763765\n",
      "100 15 48.927744690551684\n",
      "113 6 99.95274214765803\n",
      "125 8 9.25360519374087\n",
      "128 12 11.665937931293966\n",
      "129 6 5.506135700460231\n",
      "132 3 11.1353747561076\n",
      "138 9 8.756525056270979\n",
      "140 15 15.896131412401619\n",
      "148 12 77.04697111623524\n",
      "154 0 18.41397330124631\n",
      "161 3 6.368746343913086\n",
      "164 1 75.05529550392222\n",
      "165 0 10.68292940144939\n",
      "166 13 17.28281882920275\n",
      "168 1 101.14800128136544\n",
      "182 11 22.852065126850952\n",
      "182 15 20.21882378575519\n",
      "188 2 8.339674118454722\n",
      "193 6 35.53584901724969\n",
      "204 13 6.413311862523441\n",
      "210 0 34.84794737675087\n",
      "218 11 119.18998725687094\n",
      "226 11 4.997042566317518\n",
      "227 2 10.027263188130277\n",
      "237 12 89.68566486292681\n",
      "244 6 7.975534294340285\n"
     ]
    }
   ],
   "source": [
    "import mediapipe as mp\n",
    "from mediapipe.tasks import python\n",
    "from mediapipe.tasks.python import vision\n",
    "\n",
    "import torch\n",
    "import cv2\n",
    "import numpy as np\n",
    "import torch\n",
    "from rlepose.models import builder\n",
    "from rlepose.utils.config import update_config\n",
    "from rlepose.utils.valid_utils_lxd import calculate_error_distance_avg, calculate_RMSE, calculate_PCK, paint\n",
    "\n",
    "\n",
    "cfg = update_config(\"../configs/256x192_res50_regress-flow_freihand.yaml\")\n",
    "device = torch.device('cuda')\n",
    "# m = builder.build_sppe(cfg.MODEL, preset_cfg=cfg.DATA_PRESET)  # 根据cfg的配置信息构建模型\n",
    "\n",
    "# m.load_state_dict(torch.load(\"/home/louxd/ldlib/res-loglikelihood-regression-master/weights/model_0918_233.pth\", map_location='cpu'), \n",
    "#                   strict=True)  # 加载权重\n",
    "\n",
    "model_path = './hand_landmarker.task'\n",
    "\n",
    "base_options = python.BaseOptions(model_asset_path=model_path)\n",
    "options = vision.HandLandmarkerOptions(base_options=base_options,\n",
    "                                       num_hands=2)\n",
    "detector = vision.HandLandmarker.create_from_options(options)\n",
    "\n",
    "\n",
    "with torch.no_grad():\n",
    "    gt_val_dataset = builder.build_dataset(cfg.DATASET.VAL, preset_cfg=cfg.DATA_PRESET, train=False, heatmap2coord=cfg.TEST.HEATMAP2COORD)\n",
    "    gt_val_sampler = torch.utils.data.distributed.DistributedSampler(\n",
    "        gt_val_dataset, num_replicas=1, rank=0)\n",
    "\n",
    "    gt_val_loader = torch.utils.data.DataLoader(\n",
    "        gt_val_dataset, batch_size=16, shuffle=False, num_workers=20, drop_last=False, sampler=gt_val_sampler)\n",
    "    \n",
    "    \n",
    "    rmse_list = []\n",
    "    pck_pix = []\n",
    "    pck_norm = []\n",
    "    err_pix = []\n",
    "\n",
    "    for index, (inps, labels) in enumerate(gt_val_loader):\n",
    "        inps = inps.cuda(device)\n",
    "        for k, _ in labels.items():\n",
    "            if k == 'type':\n",
    "                continue\n",
    "            \n",
    "            labels[k] = labels[k].cuda(device)\n",
    "\n",
    "        kpts_gt = labels['target_uv'].cpu().numpy().reshape(-1, 21, 2) # size * 42\n",
    "\n",
    "        # output = m(inps, labels)\n",
    "        for i in range(len(inps)):\n",
    "            imgi = inps[i].cpu().numpy()\n",
    "            imgi = np.transpose(imgi, (1, 2, 0))\n",
    "            imgi = (imgi + np.array([0.480, 0.457, 0.406], dtype=np.float32)) * np.array([255., 255., 255.], dtype=np.float32)\n",
    "            imgi = cv2.cvtColor(imgi, cv2.COLOR_BGR2RGB) \n",
    "            imgi = imgi.astype(np.uint8)\n",
    "            img_h, img_w, _ = imgi.shape\n",
    "            # kpts_pre_i = np.array([(kpt + [0.5, 0.5]) * [img_w, img_h] for kpt in kpts_pre[i]])\n",
    "            kpts_gt_i = np.array([(kpt + [0.5, 0.5]) * [img_w, img_h] for kpt in kpts_gt[i]])\n",
    "\n",
    "            mp_image = mp.Image(image_format=mp.ImageFormat.SRGB, data=imgi)\n",
    "            detection_result = detector.detect(mp_image)\n",
    "            hand_landmarks = detection_result.hand_landmarks\n",
    "\n",
    "            if len(hand_landmarks) > 0:\n",
    "                hand_lm = detection_result.hand_landmarks[0]\n",
    "                pts_i = []\n",
    "\n",
    "                for lm in hand_lm:\n",
    "                    x = lm.x * img_w\n",
    "                    y = lm.y * img_h\n",
    "                    pts_i.append([x, y])\n",
    "\n",
    "                imagei_pre = imgi.copy()\n",
    "                pts_i = np.array(pts_i)\n",
    "                _, rmse_i = calculate_RMSE(pts_i, kpts_gt_i)\n",
    "                pck_pix_i, pck_norm_i = calculate_PCK(pts_i, kpts_gt_i)\n",
    "                err_pix_i = calculate_error_distance_avg(pts_i, kpts_gt_i)\n",
    "                rmse_list.append(rmse_i)\n",
    "                pck_pix.append(pck_pix_i)\n",
    "                pck_norm.append(pck_norm_i)\n",
    "                err_pix.append(err_pix_i)\n",
    "                print(index, i, err_pix_i)\n",
    "\n",
    "    rmse = np.mean(rmse_list, axis=0)\n",
    "    pck_pix = np.mean(pck_pix, axis=0)\n",
    "    pck_norm = np.mean(pck_norm, axis=0)\n",
    "    err_pix = np.mean(err_pix)\n",
    "\n",
    "\n"
   ]
  },
  {
   "cell_type": "code",
   "execution_count": null,
   "metadata": {},
   "outputs": [
    {
     "data": {
      "image/png": "[encoded data removed]",
      "text/plain": [
       "<Figure size 432x288 with 1 Axes>"
      ]
     },
     "metadata": {
      "needs_background": "light"
     },
     "output_type": "display_data"
    },
    {
     "data": {
      "image/png": "[encoded data removed]",
      "text/plain": [
       "<Figure size 432x288 with 1 Axes>"
      ]
     },
     "metadata": {
      "needs_background": "light"
     },
     "output_type": "display_data"
    },
    {
     "name": "stdout",
     "output_type": "stream",
     "text": [
      "Pixels PCK:  [0.         0.00571429 0.04095238 0.08285714 0.1352381  0.19809524\n",
      " 0.2552381  0.32       0.37142857 0.42571429 0.46952381 0.51238095\n",
      " 0.54857143 0.58095238 0.60095238 0.61619048 0.62761905 0.64095238\n",
      " 0.65142857 0.66190476 0.67142857 0.67904762 0.68761905 0.69428571\n",
      " 0.70380952 0.70952381 0.71238095 0.71904762 0.72190476 0.72571429]\n",
      "Norm PCK:  [0.         0.36761905 0.63142857 0.69714286 0.73238095 0.75904762\n",
      " 0.78285714 0.80952381 0.83428571 0.85333333 0.87238095 0.89333333\n",
      " 0.91142857 0.92857143 0.94190476 0.95428571 0.96380952 0.97333333\n",
      " 0.97904762 0.98571429]\n",
      "RMSE:  108.60327215891792\n",
      "ERROR DISTANCE:  29.35182645708257\n"
     ]
    }
   ],
   "source": [
    "import matplotlib.pyplot as plt\n",
    "pixel_thresholds = np.arange(0, 30, 1)\n",
    "norm_thresholds = np.arange(0, 1, 0.05)\n",
    "\n",
    "average_precision = pck_pix\n",
    "\n",
    "plt.plot(pixel_thresholds, average_precision, '-o')\n",
    "plt.xlabel('Threshold')\n",
    "plt.ylabel('PCK')\n",
    "plt.title('Error Distance(pixels) PCK')\n",
    "plt.grid(True)\n",
    "plt.show()\n",
    "\n",
    "norm_thresholds = np.arange(0, 1, 0.05)\n",
    "\n",
    "average_precision = pck_norm\n",
    "\n",
    "\n",
    "plt.plot(norm_thresholds, average_precision, '-o')\n",
    "plt.xlabel('Threshold')\n",
    "plt.ylabel('PCK')\n",
    "plt.title('max HW normalize PCK')\n",
    "plt.grid(True)\n",
    "plt.show()\n",
    "\n",
    "print(\"Pixels PCK: \", pck_pix)\n",
    "print(\"Norm PCK: \", pck_norm)\n",
    "print(\"RMSE: \", rmse)\n",
    "print(\"ERROR DISTANCE: \", err_pix)\n"
   ]
  },
  {
   "cell_type": "code",
   "execution_count": null,
   "metadata": {},
   "outputs": [
    {
     "data": {
      "text/plain": [
       "NormalizedLandmark(x=0.8822426199913025, y=0.49387818574905396, z=8.636168900011398e-07, visibility=0.0, presence=0.0)"
      ]
     },
     "execution_count": 20,
     "metadata": {},
     "output_type": "execute_result"
    }
   ],
   "source": [
    "detection_result.hand_landmarks[0][0]"
   ]
  }
 ],
 "metadata": {
  "kernelspec": {
   "display_name": "deeplearning",
   "language": "python",
   "name": "python3"
  },
  "language_info": {
   "codemirror_mode": {
    "name": "ipython",
    "version": 3
   },
   "file_extension": ".py",
   "mimetype": "text/x-python",
   "name": "python",
   "nbconvert_exporter": "python",
   "pygments_lexer": "ipython3",
   "version": "3.7.12"
  },
  "orig_nbformat": 4
 },
 "nbformat": 4,
 "nbformat_minor": 2
}
